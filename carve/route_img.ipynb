{
 "cells": [
  {
   "cell_type": "code",
   "execution_count": 4,
   "metadata": {},
   "outputs": [],
   "source": [
    "import os\n",
    "import glob\n",
    "import numpy as np\n",
    "import pandas as pd\n",
    "import matplotlib.pyplot as plt\n",
    "from ph_scan import *\n",
    "% pylab"
   ]
  },
  {
   "cell_type": "markdown",
   "metadata": {},
   "source": [
    "### This notebook recorded the bounding boxes for the paths traversed by the surveyors."
   ]
  },
  {
   "cell_type": "code",
   "execution_count": null,
   "metadata": {},
   "outputs": [],
   "source": [
    "#[0] Beaubien Woods\n",
    "fname = 'Delivery/057773250120_01/057773250120_01_P004_MUL/17SEP29170130-M2AS-057773250120_01_P004.TIF'\n",
    "scan = PhScan(fname)\n",
    "fig, ax = plt.subplots(1, 1)\n",
    "im1 = ax.imshow((2.0 * scan.rgb).clip(0, 1))\n",
    "\n",
    "im1 = ax.imshow((2.0 * scan.rgb[82:178:, 461:508:]).clip(0, 1))\n",
    "fig.canvas.draw()\n",
    "plt.show()\n",
    "fig.savefig(os.path.join( \"output\", \"Beaubien_Woods_17SEP29170130.png\"), clobber=True)"
   ]
  },
  {
   "cell_type": "code",
   "execution_count": 12,
   "metadata": {
    "collapsed": true
   },
   "outputs": [],
   "source": [
    "# [1] Blue Star Memorial Woods [0]\n",
    "fname = 'Delivery/057773250010_01/057773250010_01_P001_MUL/17JUN02165316-M2AS-057773250010_01_P001.TIF'\n",
    "scan = PhScan(fname)\n",
    "fig, ax = plt.subplots(1, 1)\n",
    "im1 = ax.imshow((2.0 * scan.rgb).clip(0, 1))\n",
    "\n",
    "im1 = ax.imshow((2.0 * scan.rgb[681:710:, 1771:1840:]).clip(0, 1))\n",
    "fig.canvas.draw()\n",
    "plt.show()\n",
    "fig.savefig(os.path.join( \"output\", \"Blue_Star_Memorial_Woods_17JUN02165316.png\"), clobber=True)"
   ]
  },
  {
   "cell_type": "code",
   "execution_count": null,
   "metadata": {},
   "outputs": [],
   "source": [
    "# [1] Blue Star Memorial Woods [1]\n",
    "fname = 'Delivery/057773250010_01/057773250010_01_P002_MUL/17SEP18165731-M2AS-057773250010_01_P002.TIF'\n",
    "scan = PhScan(fname)\n",
    "fig, ax = plt.subplots(1, 1)\n",
    "im1 = ax.imshow((2.0 * scan.rgb).clip(0, 1))\n",
    "\n",
    "im1 = ax.imshow((2.0 * scan.rgb[678:716:, 1762:1840:]).clip(0, 1))\n",
    "fig.canvas.draw()\n",
    "plt.show()\n",
    "fig.savefig(os.path.join( \"output\", \"Blue_Star_Memorial_Woods_17SEP18165731.png\"), clobber=True)"
   ]
  },
  {
   "cell_type": "code",
   "execution_count": null,
   "metadata": {},
   "outputs": [],
   "source": [
    "# [1] Blue Star Memorial Woods [2]\n",
    "fname = 'Delivery/057773250010_01/057773250010_01_P003_MUL/17SEP29170927-M2AS-057773250010_01_P003.TIF'\n",
    "scan = PhScan(fname)\n",
    "fig, ax = plt.subplots(1, 1)\n",
    "im1 = ax.imshow((2.0 * scan.rgb).clip(0, 1))\n",
    "\n",
    "im1 = ax.imshow((2.0 * scan.rgb[679:721:, 1753:1832:]).clip(0, 1))\n",
    "fig.canvas.draw()\n",
    "plt.show()\n",
    "fig.savefig(os.path.join( \"output\", \"Blue_Star_Memorial_Woods_17SEP29170927.png\"), clobber=True)"
   ]
  },
  {
   "cell_type": "code",
   "execution_count": null,
   "metadata": {},
   "outputs": [],
   "source": [
    "# [2] Chipilly Woods [2]\n",
    "fname = 'Delivery/057773250040_01/057773250040_01_P001_MUL/17SEP18165737-M2AS-057773250040_01_P001.TIF'\n",
    "scan = PhScan(fname)\n",
    "fig, ax = plt.subplots(1, 1)\n",
    "im1 = ax.imshow((2.0 * scan.rgb).clip(0, 1))\n",
    "\n",
    "im1 = ax.imshow((2.0 * scan.rgb[10087:10235:, 6732:6851:]).clip(0, 1))\n",
    "fig.canvas.draw()\n",
    "plt.show()\n",
    "fig.savefig(os.path.join( \"output\", \"Chipilly_Woods_17SEP18165737.png\"), clobber=True)"
   ]
  },
  {
   "cell_type": "code",
   "execution_count": 16,
   "metadata": {
    "collapsed": true
   },
   "outputs": [],
   "source": [
    "# [3] Clayton Smith Woods [0]\n",
    "fname = 'Delivery/057773250010_01/057773250010_01_P001_MUL/17JUN02165316-M2AS-057773250010_01_P001.TIF'\n",
    "scan = PhScan(fname)\n",
    "fig, ax = plt.subplots(1, 1)\n",
    "im1 = ax.imshow((2.0 * scan.rgb).clip(0, 1))\n",
    "\n",
    "im1 = ax.imshow((2.0 * scan.rgb[4334:4425:, 921:1100:]).clip(0, 1))\n",
    "fig.canvas.draw()\n",
    "plt.show()\n",
    "fig.savefig(os.path.join( \"output\", \"Clayton_Smith_Woods_17JUN02165316.png\"), clobber=True)"
   ]
  },
  {
   "cell_type": "code",
   "execution_count": null,
   "metadata": {},
   "outputs": [],
   "source": [
    "# [3] Clayton Smith Woods [1]\n",
    "fname = 'Delivery/057773250010_01/057773250010_01_P002_MUL/17SEP18165731-M2AS-057773250010_01_P002.TIF'\n",
    "scan = PhScan(fname)\n",
    "fig, ax = plt.subplots(1, 1)\n",
    "im1 = ax.imshow((2.0 * scan.rgb).clip(0, 1))\n",
    "\n",
    "im1 = ax.imshow((2.0 * scan.rgb[4335:4387:, 933:1059:]).clip(0, 1))\n",
    "fig.canvas.draw()\n",
    "plt.show()\n",
    "fig.savefig(os.path.join( \"output\", \"Clayton_Smith_Woods_17SEP18165731.png\"), clobber=True)"
   ]
  },
  {
   "cell_type": "code",
   "execution_count": null,
   "metadata": {},
   "outputs": [],
   "source": [
    "# [3] Clayton Smith Woods [2]\n",
    "fname = 'Delivery/057773250010_01/057773250010_01_P003_MUL/17SEP29170927-M2AS-057773250010_01_P003.TIF'\n",
    "scan = PhScan(fname)\n",
    "fig, ax = plt.subplots(1, 1)\n",
    "im1 = ax.imshow((2.0 * scan.rgb).clip(0, 1))\n",
    "\n",
    "im1 = ax.imshow((2.0 * scan.rgb[4339:4381:, 934:1063:]).clip(0, 1))\n",
    "fig.canvas.draw()\n",
    "plt.show()\n",
    "fig.savefig(os.path.join( \"output\", \"Clayton_Smith_Woods_17SEP29170927.png\"), clobber=True)"
   ]
  },
  {
   "cell_type": "code",
   "execution_count": 23,
   "metadata": {
    "collapsed": true
   },
   "outputs": [],
   "source": [
    "# [5] Edgebrook Woods ([4] no picture) [0]\n",
    "fname = 'Delivery/057773250010_01/057773250010_01_P001_MUL/17JUN02165316-M2AS-057773250010_01_P001.TIF'\n",
    "scan = PhScan(fname)\n",
    "fig, ax = plt.subplots(1, 1)\n",
    "im1 = ax.imshow((2.0 * scan.rgb).clip(0, 1))\n",
    "\n",
    "im1 = ax.imshow((2.0 * scan.rgb[5444:5492:, 2153:2272:]).clip(0, 1))\n",
    "fig.canvas.draw()\n",
    "plt.show()\n",
    "fig.savefig(os.path.join( \"output\", \"Edgebrook_Woods_17JUN02165316.png\"), clobber=True)"
   ]
  },
  {
   "cell_type": "code",
   "execution_count": null,
   "metadata": {},
   "outputs": [],
   "source": [
    "# [5] Edgebrook Woods ([4] no picture) [1]\n",
    "fname = 'Delivery/057773250010_01/057773250010_01_P002_MUL/17SEP18165731-M2AS-057773250010_01_P002.TIF'\n",
    "scan = PhScan(fname)\n",
    "fig, ax = plt.subplots(1, 1)\n",
    "im1 = ax.imshow((2.0 * scan.rgb).clip(0, 1))\n",
    "\n",
    "im1 = ax.imshow((2.0 * scan.rgb[5444:5514:, 2173:2267:]).clip(0, 1))\n",
    "fig.canvas.draw()\n",
    "plt.show()\n",
    "fig.savefig(os.path.join( \"output\", \"Edgebrook_Woods_17SEP18165731.png\"), clobber=True)"
   ]
  },
  {
   "cell_type": "code",
   "execution_count": null,
   "metadata": {},
   "outputs": [],
   "source": [
    "# [5] Edgebrook Woods ([4] no picture) [2]\n",
    "fname = 'Delivery/057773250010_01/057773250010_01_P003_MUL/17SEP29170927-M2AS-057773250010_01_P003.TIF'\n",
    "scan = PhScan(fname)\n",
    "fig, ax = plt.subplots(1, 1)\n",
    "im1 = ax.imshow((2.0 * scan.rgb).clip(0, 1))\n",
    "\n",
    "im1 = ax.imshow((2.0 * scan.rgb[5457:5507:, 2164:2270:]).clip(0, 1))\n",
    "fig.canvas.draw()\n",
    "plt.show()\n",
    "fig.savefig(os.path.join( \"output\", \"Edgebrook_Woods_17SEP29170927.png\"), clobber=True)"
   ]
  },
  {
   "cell_type": "code",
   "execution_count": 27,
   "metadata": {
    "collapsed": true
   },
   "outputs": [],
   "source": [
    "# [6] Forest Glen Woods [0]\n",
    "fname = 'Delivery/057773250010_01/057773250010_01_P001_MUL/17JUN02165316-M2AS-057773250010_01_P001.TIF'\n",
    "scan = PhScan(fname)\n",
    "fig, ax = plt.subplots(1, 1)\n",
    "im1 = ax.imshow((2.0 * scan.rgb).clip(0, 1))\n",
    "\n",
    "im1 = ax.imshow((2.0 * scan.rgb[5800:5857:, 2740:2764:]).clip(0, 1))\n",
    "fig.canvas.draw()\n",
    "plt.show()\n",
    "fig.savefig(os.path.join( \"output\", \"Forest_Glen_Woods_17JUN02165316.png\"), clobber=True)"
   ]
  },
  {
   "cell_type": "code",
   "execution_count": null,
   "metadata": {},
   "outputs": [],
   "source": [
    "# [6] Forest Glen Woods [1]\n",
    "fname = 'Delivery/057773250010_01/057773250010_01_P002_MUL/17SEP18165731-M2AS-057773250010_01_P002.TIF'\n",
    "scan = PhScan(fname)\n",
    "fig, ax = plt.subplots(1, 1)\n",
    "im1 = ax.imshow((2.0 * scan.rgb).clip(0, 1))\n",
    "\n",
    "im1 = ax.imshow((2.0 * scan.rgb[5800:5857:, 2740:2764:]).clip(0, 1))\n",
    "fig.canvas.draw()\n",
    "plt.show()\n",
    "fig.savefig(os.path.join( \"output\", \"Forest_Glen_Woods_17SEP18165731.png\"), clobber=True)"
   ]
  },
  {
   "cell_type": "code",
   "execution_count": null,
   "metadata": {},
   "outputs": [],
   "source": [
    "# [6] Forest Glen Woods [2]\n",
    "fname = 'Delivery/057773250010_01/057773250010_01_P003_MUL/17SEP29170927-M2AS-057773250010_01_P003.TIF'\n",
    "scan = PhScan(fname)\n",
    "fig, ax = plt.subplots(1, 1)\n",
    "im1 = ax.imshow((2.0 * scan.rgb).clip(0, 1))\n",
    "\n",
    "im1 = ax.imshow((2.0 * scan.rgb[5800:5857:, 2740:2764:]).clip(0, 1))\n",
    "fig.canvas.draw()\n",
    "plt.show()\n",
    "fig.savefig(os.path.join( \"output\", \"Forest_Glen_Woods_17SEP29170927.png\"), clobber=True)"
   ]
  },
  {
   "cell_type": "code",
   "execution_count": null,
   "metadata": {},
   "outputs": [],
   "source": [
    "# [7] Kickapoo Woods [0]\n",
    "fname = 'Delivery/057773250120_01/057773250120_01_P001_MUL/17SEP29170931-M2AS-057773250120_01_P001.TIF'\n",
    "scan = PhScan(fname)\n",
    "fig, ax = plt.subplots(1, 1)\n",
    "im1 = ax.imshow((2.0 * scan.rgb).clip(0, 1))\n",
    "\n",
    "im1 = ax.imshow((2.0 * scan.rgb[2127:2174:, 6325:6416:]).clip(0, 1))\n",
    "fig.canvas.draw()\n",
    "plt.show()\n",
    "fig.savefig(os.path.join( \"output\", \"Kickapoo_Woods_17SEP29170931.png\"), clobber=True)"
   ]
  },
  {
   "cell_type": "code",
   "execution_count": 33,
   "metadata": {
    "collapsed": true
   },
   "outputs": [],
   "source": [
    "## [8] LaBagh Woods [0]\n",
    "fname = 'Delivery/057773250010_01/057773250010_01_P001_MUL/17JUN02165316-M2AS-057773250010_01_P001.TIF'\n",
    "scan = PhScan(fname)\n",
    "fig, ax = plt.subplots(1, 1)\n",
    "im1 = ax.imshow((2.0 * scan.rgb).clip(0, 1))\n",
    "\n",
    "im1 = ax.imshow((2.0 * scan.rgb[6085:6152:, 3752:3821:]).clip(0, 1))\n",
    "fig.canvas.draw()\n",
    "plt.show()\n",
    "fig.savefig(os.path.join( \"output\", \"LaBagh_Woods_17JUN02165316.png\"), clobber=True)"
   ]
  },
  {
   "cell_type": "code",
   "execution_count": null,
   "metadata": {},
   "outputs": [],
   "source": [
    "## [8] LaBagh Woods [1]\n",
    "fname = 'Delivery/057773250010_01/057773250010_01_P002_MUL/17SEP18165731-M2AS-057773250010_01_P002.TIF'\n",
    "scan = PhScan(fname)\n",
    "fig, ax = plt.subplots(1, 1)\n",
    "im1 = ax.imshow((2.0 * scan.rgb).clip(0, 1))\n",
    "\n",
    "im1 = ax.imshow((2.0 * scan.rgb[6085:6144:, 3761:3828:]).clip(0, 1))\n",
    "fig.canvas.draw()\n",
    "plt.show()\n",
    "fig.savefig(os.path.join( \"output\", \"LaBagh_Woods_17SEP18165731.png\"), clobber=True)"
   ]
  },
  {
   "cell_type": "code",
   "execution_count": null,
   "metadata": {},
   "outputs": [],
   "source": [
    "## [8] LaBagh Woods [2]\n",
    "fname = 'Delivery/057773250010_01/057773250010_01_P003_MUL/17SEP29170927-M2AS-057773250010_01_P003.TIF'\n",
    "scan = PhScan(fname)\n",
    "fig, ax = plt.subplots(1, 1)\n",
    "im1 = ax.imshow((2.0 * scan.rgb).clip(0, 1))\n",
    "\n",
    "im1 = ax.imshow((2.0 * scan.rgb[6085:6145:, 3761:3828:]).clip(0, 1))\n",
    "fig.canvas.draw()\n",
    "plt.show()\n",
    "fig.savefig(os.path.join( \"output\", \"LaBagh_Woods_17SEP29170927.png\"), clobber=True)"
   ]
  },
  {
   "cell_type": "code",
   "execution_count": null,
   "metadata": {},
   "outputs": [],
   "source": [
    "## [9] Linne Woods [0]\n",
    "fname = 'Delivery/057773250010_01/057773250010_01_P001_MUL/17JUN02165316-M2AS-057773250010_01_P001.TIF'\n",
    "scan = PhScan(fname)\n",
    "fig, ax = plt.subplots(1, 1)\n",
    "im1 = ax.imshow((2.0 * scan.rgb).clip(0, 1))\n",
    "\n",
    "im1 = ax.imshow((2.0 * scan.rgb[2188:2406:, 1229:1288:]).clip(0, 1))\n",
    "fig.canvas.draw()\n",
    "plt.show()\n",
    "fig.savefig(os.path.join( \"output\", \"Linne_Woods_17JUN02165316.png\"), clobber=True)"
   ]
  },
  {
   "cell_type": "code",
   "execution_count": null,
   "metadata": {},
   "outputs": [],
   "source": [
    "## [9] Linne Woods [1]\n",
    "fname = 'Delivery/057773250010_01/057773250010_01_P002_MUL/17SEP18165731-M2AS-057773250010_01_P002.TIF'\n",
    "scan = PhScan(fname)\n",
    "fig, ax = plt.subplots(1, 1)\n",
    "im1 = ax.imshow((2.0 * scan.rgb).clip(0, 1))\n",
    "\n",
    "im1 = ax.imshow((2.0 * scan.rgb[2188:2406:, 1229:1288:]).clip(0, 1))\n",
    "fig.canvas.draw()\n",
    "plt.show()\n",
    "fig.savefig(os.path.join( \"output\", \"Linne_Woods_17SEP18165731.png\"), clobber=True)"
   ]
  },
  {
   "cell_type": "code",
   "execution_count": 6,
   "metadata": {
    "collapsed": true
   },
   "outputs": [],
   "source": [
    "## [10] Ronan Park & East River Park [0]\n",
    "fname = 'Delivery/057773250050_01/057773250050_01_P001_MUL/17SEP29170928-M2AS-057773250050_01_P001.TIF'\n",
    "scan = PhScan(fname)\n",
    "fig, ax = plt.subplots(1, 1)\n",
    "im1 = ax.imshow((2.0 * scan.rgb).clip(0, 1))\n",
    "\n",
    "im1 = ax.imshow((2.0 * scan.rgb[446:498:, 373:395:]).clip(0, 1))\n",
    "fig.canvas.draw()\n",
    "plt.show()\n",
    "fig.savefig(os.path.join( \"output\", \"Ronan_Park_17SEP29170928.png\"), clobber=True)"
   ]
  },
  {
   "cell_type": "code",
   "execution_count": null,
   "metadata": {
    "collapsed": true
   },
   "outputs": [],
   "source": [
    "## [12] Skokie Lagoons [1]\n",
    "fname = 'Delivery/057773250130_01/057773250130_01_P001_MUL/17SEP18165737-M2AS-057773250130_01_P001.TIF'\n",
    "scan = PhScan(fname)\n",
    "fig, ax = plt.subplots(1, 1)\n",
    "im1 = ax.imshow((2.0 * scan.rgb).clip(0, 1))\n",
    "\n",
    "im1 = ax.imshow((2.0 * scan.rgb[2606*4:2621*4:, 1442*4:1478*4-20:]).clip(0, 1))\n",
    "fig.canvas.draw()\n",
    "plt.show()\n",
    "fig.savefig(os.path.join( \"output\", \"Skokie_Lagoons_17SEP18165737.png\"), clobber=True)"
   ]
  },
  {
   "cell_type": "code",
   "execution_count": null,
   "metadata": {},
   "outputs": [],
   "source": [
    "## [13] Somme Woods [2]\n",
    "fname = 'Delivery/057773250040_01/057773250040_01_P001_MUL/17SEP18165737-M2AS-057773250040_01_P001.TIF'\n",
    "scan = PhScan(fname)\n",
    "fig, ax = plt.subplots(1, 1)\n",
    "im1 = ax.imshow((2.0 * scan.rgb).clip(0, 1))\n",
    "\n",
    "im1 = ax.imshow((2.0 * scan.rgb[9364:9515:, 5476:5569:]).clip(0, 1))\n",
    "fig.canvas.draw()\n",
    "plt.show()\n",
    "fig.savefig(os.path.join( \"output\", \"Somme_Woods_17SEP18165737.png\"), clobber=True)"
   ]
  },
  {
   "cell_type": "code",
   "execution_count": null,
   "metadata": {},
   "outputs": [],
   "source": [
    "## [14] Wampum Lake [1]\n",
    "fname = 'Delivery/057773250120_01/057773250120_01_P002_MUL/17SEP29170932-M2AS-057773250120_01_P002.TIF'\n",
    "scan = PhScan(fname)\n",
    "fig, ax = plt.subplots(1, 1)\n",
    "im1 = ax.imshow((2.0 * scan.rgb).clip(0, 1))\n",
    "\n",
    "im1 = ax.imshow((2.0 * scan.rgb[671:749:, 5940:5997:]).clip(0, 1))\n",
    "fig.canvas.draw()\n",
    "plt.show()\n",
    "fig.savefig(os.path.join( \"output\", \"Wampum_Lake_17SEP29170932.png\"), clobber=True)"
   ]
  },
  {
   "cell_type": "code",
   "execution_count": null,
   "metadata": {},
   "outputs": [],
   "source": [
    "## [15] Watersmeet Woods [0]\n",
    "fname = 'Delivery/057773250040_01/057773250040_01_P001_MUL/17SEP18165737-M2AS-057773250040_01_P001.TIF'\n",
    "scan = PhScan(fname)\n",
    "fig, ax = plt.subplots(1, 1)\n",
    "im1 = ax.imshow((2.0 * scan.rgb).clip(0, 1))\n",
    "\n",
    "im1 = ax.imshow((2.0 * scan.rgb[12353:12404:, 8057:8185:]).clip(0, 1))\n",
    "fig.canvas.draw()\n",
    "plt.show()\n",
    "fig.savefig(os.path.join( \"output\", \"Watersmeet_Woods_17SEP18165737.png\"), clobber=True)"
   ]
  },
  {
   "cell_type": "code",
   "execution_count": null,
   "metadata": {},
   "outputs": [],
   "source": [
    "## [16] Whistler Woods [0]\n",
    "fname = 'Delivery/057773250120_01/057773250120_01_P001_MUL/17SEP29170931-M2AS-057773250120_01_P001.TIF'\n",
    "scan = PhScan(fname)\n",
    "fig, ax = plt.subplots(1, 1)\n",
    "im1 = ax.imshow((2.0 * scan.rgb).clip(0, 1))\n",
    "\n",
    "im1 = ax.imshow((2.0 * scan.rgb[699:757:, 7001:7079:]).clip(0, 1))\n",
    "fig.canvas.draw()\n",
    "plt.show()\n",
    "fig.savefig(os.path.join( \"output\", \"Whistler_Woods_17SEP29170931.png\"), clobber=True)"
   ]
  },
  {
   "cell_type": "code",
   "execution_count": null,
   "metadata": {},
   "outputs": [],
   "source": []
  }
 ],
 "metadata": {
  "kernelspec": {
   "display_name": "Python 2",
   "language": "python",
   "name": "python2"
  },
  "language_info": {
   "codemirror_mode": {
    "name": "ipython",
    "version": 2
   },
   "file_extension": ".py",
   "mimetype": "text/x-python",
   "name": "python",
   "nbconvert_exporter": "python",
   "pygments_lexer": "ipython2",
   "version": "2.7.11"
  }
 },
 "nbformat": 4,
 "nbformat_minor": 2
}
