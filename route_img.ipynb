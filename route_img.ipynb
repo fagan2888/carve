{
 "cells": [
  {
   "cell_type": "code",
   "execution_count": 4,
   "metadata": {},
   "outputs": [],
   "source": [
    "import os\n",
    "import glob\n",
    "import numpy as np\n",
    "import pandas as pd\n",
    "import matplotlib.pyplot as plt\n",
    "from ph_scan import *"
   ]
  },
  {
   "cell_type": "code",
   "execution_count": 2,
   "metadata": {},
   "outputs": [
    {
     "name": "stdout",
     "output_type": "stream",
     "text": [
      "Using matplotlib backend: Qt5Agg\n",
      "Populating the interactive namespace from numpy and matplotlib\n"
     ]
    }
   ],
   "source": [
    "% pylab"
   ]
  },
  {
   "cell_type": "code",
   "execution_count": null,
   "metadata": {},
   "outputs": [],
   "source": [
    "#[0] Beaubien Woods\n",
    "fname = 'Delivery/057773250120_01/057773250120_01_P004_MUL/17SEP29170130-M2AS-057773250120_01_P004.TIF'\n",
    "scan = PhScan(fname)\n",
    "\n",
    "\n",
    "nrow, ncol = scan.rgb.shape[:2]\n",
    "xsize = 8.\n",
    "ysize = xsize * float(nrow) / float(ncol)\n",
    "\n",
    "fig, ax = plt.subplots(num=0, figsize=[xsize, ysize])\n",
    "fig.subplots_adjust(0, 0, 1, 1)\n",
    "im1 = ax.imshow((2.0 * scan.rgb).clip(0, 1))"
   ]
  },
  {
   "cell_type": "code",
   "execution_count": null,
   "metadata": {},
   "outputs": [],
   "source": [
    "prow = [82,178]\n",
    "pcol = [461,508]\n",
    "llp  = (pcol[0], prow[0])\n",
    "widp = pcol[1] - pcol[0]\n",
    "hgtp = prow[1] - prow[0]\n",
    "\n",
    "ax.add_patch(plt.Rectangle(llp, widp, hgtp, facecolor='none', \n",
    "                            edgecolor='orange', lw=2))\n",
    "ax.set_xlim(pcol[0] - 100, pcol[1] + 100)\n",
    "ax.set_ylim(prow[0] - 100, prow[1] + 100)\n",
    "fig.canvas.draw()\n"
   ]
  },
  {
   "cell_type": "code",
   "execution_count": null,
   "metadata": {},
   "outputs": [],
   "source": [
    "nrow, ncol = scan.rgb[82:178:, 461:508:].shape[:2]\n",
    "xsize = 8.\n",
    "ysize = xsize * float(nrow) / float(ncol)\n",
    "fig1, ax1 = plt.subplots(num=0, figsize=[xsize, ysize])\n",
    "fig1.subplots_adjust(0, 0, 1, 1)\n",
    "# ax1.axis(\"off\")\n",
    "im1 = ax1.imshow((2.0 * scan.rgb[82:178:, 461:508:]).clip(0, 1))\n",
    "fig1.canvas.draw()\n",
    "fig1.savefig(os.path.join( \"output\", \"test.png\"), clobber=True)"
   ]
  },
  {
   "cell_type": "code",
   "execution_count": null,
   "metadata": {},
   "outputs": [],
   "source": [
    "#[0] Beaubien Woods\n",
    "fname = 'Delivery/057773250120_01/057773250120_01_P004_MUL/17SEP29170130-M2AS-057773250120_01_P004.TIF'\n",
    "scan = PhScan(fname)\n",
    "fig, ax = plt.subplots(1, 1)\n",
    "im1 = ax.imshow((2.0 * scan.rgb[::, ::]).clip(0, 1))"
   ]
  },
  {
   "cell_type": "code",
   "execution_count": 8,
   "metadata": {
    "collapsed": true
   },
   "outputs": [],
   "source": [
    "im1 = ax.imshow((2.0 * scan.rgb[82:178:, 461:508:]).clip(0, 1))\n",
    "fig.canvas.draw()\n",
    "plt.show()\n",
    "fig.savefig(os.path.join( \"output\", \"Beaubien_Woods_17SEP29170130.png\"), clobber=True)"
   ]
  },
  {
   "cell_type": "code",
   "execution_count": 11,
   "metadata": {},
   "outputs": [
    {
     "name": "stdout",
     "output_type": "stream",
     "text": [
      "reading Delivery\\057773250010_01\\057773250010_01_P001_MUL\\17JUN02165316-M2AS-057773250010_01_P001.TIF...\n",
      "extracting to array...  (extracted in 3.72500014305s)\n",
      "rescaling...\n",
      "WARNING: NORMALIZATION FACTORS SET BY HAND\n"
     ]
    }
   ],
   "source": [
    "# [1] Blue Star Memorial Woods [0]\n",
    "fname = 'Delivery/057773250010_01/057773250010_01_P001_MUL/17JUN02165316-M2AS-057773250010_01_P001.TIF'\n",
    "scan = PhScan(fname)\n",
    "fig, ax = plt.subplots(1, 1, figsize=[8, 4])\n",
    "im1 = ax.imshow((2.0 * scan.rgb[::, ::]).clip(0, 1))"
   ]
  },
  {
   "cell_type": "code",
   "execution_count": 12,
   "metadata": {
    "collapsed": true
   },
   "outputs": [],
   "source": [
    "im1 = ax.imshow((2.0 * scan.rgb[681:710:, 1771:1840:]).clip(0, 1))\n",
    "fig.canvas.draw()\n",
    "plt.show()\n",
    "fig.savefig(os.path.join( \"output\", \"Blue_Star_Memorial_Woods_17JUN02165316.png\"), clobber=True)"
   ]
  },
  {
   "cell_type": "code",
   "execution_count": null,
   "metadata": {},
   "outputs": [],
   "source": [
    "# [1] Blue Star Memorial Woods [1]\n",
    "fname = 'Delivery/057773250010_01/057773250010_01_P002_MUL/17SEP18165731-M2AS-057773250010_01_P002.TIF'\n",
    "scan = PhScan(fname)\n",
    "fig, ax = plt.subplots(1, 1, figsize=[8, 4])\n",
    "im1 = ax.imshow((2.0 * scan.rgb[::, ::]).clip(0, 1))"
   ]
  },
  {
   "cell_type": "code",
   "execution_count": 1,
   "metadata": {},
   "outputs": [
    {
     "ename": "NameError",
     "evalue": "name 'ax' is not defined",
     "output_type": "error",
     "traceback": [
      "\u001b[1;31m---------------------------------------------------------------------------\u001b[0m",
      "\u001b[1;31mNameError\u001b[0m                                 Traceback (most recent call last)",
      "\u001b[1;32m<ipython-input-1-8ce929e12a4f>\u001b[0m in \u001b[0;36m<module>\u001b[1;34m()\u001b[0m\n\u001b[1;32m----> 1\u001b[1;33m \u001b[0mim1\u001b[0m \u001b[1;33m=\u001b[0m \u001b[0max\u001b[0m\u001b[1;33m.\u001b[0m\u001b[0mimshow\u001b[0m\u001b[1;33m(\u001b[0m\u001b[1;33m(\u001b[0m\u001b[1;36m2.0\u001b[0m \u001b[1;33m*\u001b[0m \u001b[0mscan\u001b[0m\u001b[1;33m.\u001b[0m\u001b[0mrgb\u001b[0m\u001b[1;33m[\u001b[0m\u001b[1;36m678\u001b[0m\u001b[1;33m:\u001b[0m\u001b[1;36m716\u001b[0m\u001b[1;33m:\u001b[0m\u001b[1;33m,\u001b[0m \u001b[1;36m1762\u001b[0m\u001b[1;33m:\u001b[0m\u001b[1;36m1850\u001b[0m\u001b[1;33m:\u001b[0m\u001b[1;33m]\u001b[0m\u001b[1;33m)\u001b[0m\u001b[1;33m.\u001b[0m\u001b[0mclip\u001b[0m\u001b[1;33m(\u001b[0m\u001b[1;36m0\u001b[0m\u001b[1;33m,\u001b[0m \u001b[1;36m1\u001b[0m\u001b[1;33m)\u001b[0m\u001b[1;33m)\u001b[0m\u001b[1;33m\u001b[0m\u001b[0m\n\u001b[0m\u001b[0;32m      2\u001b[0m \u001b[0mfig\u001b[0m\u001b[1;33m.\u001b[0m\u001b[0mcanvas\u001b[0m\u001b[1;33m.\u001b[0m\u001b[0mdraw\u001b[0m\u001b[1;33m(\u001b[0m\u001b[1;33m)\u001b[0m\u001b[1;33m\u001b[0m\u001b[0m\n\u001b[0;32m      3\u001b[0m \u001b[0mplt\u001b[0m\u001b[1;33m.\u001b[0m\u001b[0mshow\u001b[0m\u001b[1;33m(\u001b[0m\u001b[1;33m)\u001b[0m\u001b[1;33m\u001b[0m\u001b[0m\n\u001b[0;32m      4\u001b[0m \u001b[1;31m# fig.savefig(os.path.join( \"output\", \"Blue_Star_Memorial_Woods_17SEP18165731.png\"), clobber=True)\u001b[0m\u001b[1;33m\u001b[0m\u001b[1;33m\u001b[0m\u001b[0m\n",
      "\u001b[1;31mNameError\u001b[0m: name 'ax' is not defined"
     ]
    }
   ],
   "source": [
    "im1 = ax.imshow((2.0 * scan.rgb[678:716:, 1762:1840:]).clip(0, 1))\n",
    "fig.canvas.draw()\n",
    "plt.show()\n",
    "fig.savefig(os.path.join( \"output\", \"Blue_Star_Memorial_Woods_17SEP18165731.png\"), clobber=True)"
   ]
  },
  {
   "cell_type": "code",
   "execution_count": null,
   "metadata": {},
   "outputs": [],
   "source": [
    "# [1] Blue Star Memorial Woods [2]\n",
    "fname = 'Delivery/057773250010_01/057773250010_01_P003_MUL/17SEP29170927-M2AS-057773250010_01_P003.TIF'\n",
    "scan = PhScan(fname)\n",
    "fig, ax = plt.subplots(1, 1, figsize=[8, 4])\n",
    "im1 = ax.imshow((2.0 * scan.rgb[::, ::]).clip(0, 1))"
   ]
  },
  {
   "cell_type": "code",
   "execution_count": null,
   "metadata": {},
   "outputs": [],
   "source": [
    "im1 = ax.imshow((2.0 * scan.rgb[679:721:, 1753:1832:]).clip(0, 1))\n",
    "fig.canvas.draw()\n",
    "plt.show()\n",
    "fig.savefig(os.path.join( \"output\", \"Blue_Star_Memorial_Woods_17SEP29170927.png\"), clobber=True)"
   ]
  },
  {
   "cell_type": "code",
   "execution_count": null,
   "metadata": {},
   "outputs": [],
   "source": [
    "# [2] Chipilly Woods [2]\n",
    "fname = 'Delivery/057773250040_01/057773250040_01_P001_MUL/17SEP18165737-M2AS-057773250040_01_P001.TIF'\n",
    "scan = PhScan(fname)\n",
    "fig, ax = plt.subplots(1, 1, figsize=[8, 4])\n",
    "im1 = ax.imshow((2.0 * scan.rgb[::, ::]).clip(0, 1))"
   ]
  },
  {
   "cell_type": "code",
   "execution_count": null,
   "metadata": {},
   "outputs": [],
   "source": [
    "im1 = ax.imshow((2.0 * scan.rgb[10087:10235:, 6732:6851:]).clip(0, 1))\n",
    "fig.canvas.draw()\n",
    "plt.show()\n",
    "fig.savefig(os.path.join( \"output\", \"Chipilly_Woods_17SEP18165737.png\"), clobber=True)"
   ]
  },
  {
   "cell_type": "code",
   "execution_count": 16,
   "metadata": {
    "collapsed": true
   },
   "outputs": [],
   "source": [
    "# [3] Clayton Smith Woods [0]\n",
    "fname = 'Delivery/057773250010_01/057773250010_01_P001_MUL/17JUN02165316-M2AS-057773250010_01_P001.TIF'\n",
    "scan = PhScan(fname)\n",
    "fig, ax = plt.subplots(1, 1, figsize=[8, 4])\n",
    "im1 = ax.imshow((2.0 * scan.rgb[::, ::]).clip(0, 1))"
   ]
  },
  {
   "cell_type": "code",
   "execution_count": 17,
   "metadata": {
    "collapsed": true
   },
   "outputs": [],
   "source": [
    "im1 = ax.imshow((2.0 * scan.rgb[4334:4425:, 921:1100:]).clip(0, 1))\n",
    "fig.canvas.draw()\n",
    "plt.show()\n",
    "fig.savefig(os.path.join( \"output\", \"Clayton_Smith_Woods.png\"), clobber=True)"
   ]
  },
  {
   "cell_type": "code",
   "execution_count": null,
   "metadata": {},
   "outputs": [],
   "source": [
    "# [3] Clayton Smith Woods [1]\n",
    "fname = 'Delivery/057773250010_01/057773250010_01_P002_MUL/17SEP18165731-M2AS-057773250010_01_P002.TIF'\n",
    "scan = PhScan(fname)\n",
    "fig, ax = plt.subplots(1, 1, figsize=[8, 4])\n",
    "im1 = ax.imshow((2.0 * scan.rgb).clip(0, 1))"
   ]
  },
  {
   "cell_type": "code",
   "execution_count": null,
   "metadata": {},
   "outputs": [],
   "source": [
    "im1 = ax.imshow((2.0 * scan.rgb[4335:4387:, 933:1059:]).clip(0, 1))\n",
    "fig.canvas.draw()\n",
    "plt.show()\n",
    "fig.savefig(os.path.join( \"output\", \"Clayton_Smith_Woods_17SEP18165731.png\"), clobber=True)"
   ]
  },
  {
   "cell_type": "code",
   "execution_count": null,
   "metadata": {},
   "outputs": [],
   "source": [
    "# [3] Clayton Smith Woods [2]\n",
    "fname = 'Delivery/057773250010_01/057773250010_01_P003_MUL/17SEP29170927-M2AS-057773250010_01_P003.TIF'\n",
    "scan = PhScan(fname)\n",
    "fig, ax = plt.subplots(1, 1)\n",
    "im1 = ax.imshow((2.0 * scan.rgb).clip(0, 1))"
   ]
  },
  {
   "cell_type": "code",
   "execution_count": null,
   "metadata": {},
   "outputs": [],
   "source": [
    "im1 = ax.imshow((2.0 * scan.rgb[4339:4381:, 934:1063:]).clip(0, 1))\n",
    "fig.canvas.draw()\n",
    "plt.show()\n",
    "fig.savefig(os.path.join( \"output\", \"Clayton_Smith_Woods_17SEP29170927.png\"), clobber=True)"
   ]
  },
  {
   "cell_type": "code",
   "execution_count": 22,
   "metadata": {},
   "outputs": [
    {
     "name": "stdout",
     "output_type": "stream",
     "text": [
      "reading Delivery\\057773250010_01\\057773250010_01_P001_MUL\\17JUN02165316-M2AS-057773250010_01_P001.TIF...\n",
      "extracting to array...  (extracted in 4.06399989128s)\n",
      "rescaling...\n",
      "WARNING: NORMALIZATION FACTORS SET BY HAND\n"
     ]
    }
   ],
   "source": [
    "# [5] Edgebrook Woods ([4] no picture) [0]\n",
    "fname = 'Delivery\\\\057773250010_01\\\\057773250010_01_P001_MUL\\\\17JUN02165316-M2AS-057773250010_01_P001.TIF'\n",
    "scan = PhScan(fname)\n",
    "fig, ax = plt.subplots(1, 1, figsize=[8, 4])\n",
    "im1 = ax.imshow((2.0 * scan.rgb).clip(0, 1))"
   ]
  },
  {
   "cell_type": "code",
   "execution_count": 23,
   "metadata": {
    "collapsed": true
   },
   "outputs": [],
   "source": [
    "im1 = ax.imshow((2.0 * scan.rgb[5444:5492:, 2153:2272:]).clip(0, 1))\n",
    "fig.canvas.draw()\n",
    "plt.show()\n",
    "fig.savefig(os.path.join( \"output\", \"Edgebrook_Woods.png\"), clobber=True)"
   ]
  },
  {
   "cell_type": "code",
   "execution_count": null,
   "metadata": {},
   "outputs": [],
   "source": [
    "# [5] Edgebrook Woods ([4] no picture) [1]\n",
    "fname = 'Delivery/057773250010_01/057773250010_01_P002_MUL/17SEP18165731-M2AS-057773250010_01_P002.TIF'\n",
    "scan = PhScan(fname)\n",
    "fig, ax = plt.subplots(1, 1, figsize=[8, 4])\n",
    "im1 = ax.imshow((2.0 * scan.rgb).clip(0, 1))"
   ]
  },
  {
   "cell_type": "code",
   "execution_count": null,
   "metadata": {},
   "outputs": [],
   "source": [
    "im1 = ax.imshow((2.0 * scan.rgb[5444:5514:, 2173:2267:]).clip(0, 1))\n",
    "fig.canvas.draw()\n",
    "plt.show()\n",
    "fig.savefig(os.path.join( \"output\", \"Edgebrook_Woods_17SEP18165731.png\"), clobber=True)"
   ]
  },
  {
   "cell_type": "code",
   "execution_count": null,
   "metadata": {},
   "outputs": [],
   "source": [
    "# [5] Edgebrook Woods ([4] no picture) [2]\n",
    "fname = 'Delivery/057773250010_01/057773250010_01_P003_MUL/17SEP29170927-M2AS-057773250010_01_P003.TIF'\n",
    "scan = PhScan(fname)\n",
    "fig, ax = plt.subplots(1, 1, figsize=[8, 4])\n",
    "im1 = ax.imshow((2.0 * scan.rgb).clip(0, 1))"
   ]
  },
  {
   "cell_type": "code",
   "execution_count": null,
   "metadata": {},
   "outputs": [],
   "source": [
    "im1 = ax.imshow((2.0 * scan.rgb[5457:5507:, 2164:2270:]).clip(0, 1))\n",
    "fig.canvas.draw()\n",
    "plt.show()\n",
    "fig.savefig(os.path.join( \"output\", \"Edgebrook_Woods_17SEP29170927.png\"), clobber=True)"
   ]
  },
  {
   "cell_type": "code",
   "execution_count": 26,
   "metadata": {},
   "outputs": [
    {
     "name": "stdout",
     "output_type": "stream",
     "text": [
      "reading Delivery\\057773250010_01\\057773250010_01_P001_MUL\\17JUN02165316-M2AS-057773250010_01_P001.TIF...\n",
      "extracting to array...  (extracted in 3.54200005531s)\n",
      "rescaling...\n",
      "WARNING: NORMALIZATION FACTORS SET BY HAND\n"
     ]
    }
   ],
   "source": [
    "# [6] Forest Glen Woods [0]\n",
    "fname = 'Delivery/057773250010_01/057773250010_01_P001_MUL/17JUN02165316-M2AS-057773250010_01_P001.TIF'\n",
    "scan = PhScan(fname)\n",
    "fig, ax = plt.subplots(1, 1, figsize=[8, 4])\n",
    "im1 = ax.imshow((2.0 * scan.rgb).clip(0, 1))"
   ]
  },
  {
   "cell_type": "code",
   "execution_count": 27,
   "metadata": {
    "collapsed": true
   },
   "outputs": [],
   "source": [
    "im1 = ax.imshow((2.0 * scan.rgb[5800:5857:, 2740:2764:]).clip(0, 1))\n",
    "fig.canvas.draw()\n",
    "plt.show()\n",
    "fig.savefig(os.path.join( \"output\", \"Forest_Glen_Woods_17JUN02165316.png\"), clobber=True)"
   ]
  },
  {
   "cell_type": "code",
   "execution_count": null,
   "metadata": {},
   "outputs": [],
   "source": [
    "# [6] Forest Glen Woods [1]\n",
    "fname = 'Delivery/057773250010_01/057773250010_01_P002_MUL/17SEP18165731-M2AS-057773250010_01_P002.TIF'\n",
    "scan = PhScan(fname)\n",
    "fig, ax = plt.subplots(1, 1, figsize=[8, 4])\n",
    "im1 = ax.imshow((2.0 * scan.rgb).clip(0, 1))"
   ]
  },
  {
   "cell_type": "code",
   "execution_count": null,
   "metadata": {},
   "outputs": [],
   "source": [
    "im1 = ax.imshow((2.0 * scan.rgb[5800:5857:, 2740:2764:]).clip(0, 1))\n",
    "fig.canvas.draw()\n",
    "plt.show()\n",
    "fig.savefig(os.path.join( \"output\", \"Forest_Glen_Woods_17SEP18165731.png\"), clobber=True)"
   ]
  },
  {
   "cell_type": "code",
   "execution_count": null,
   "metadata": {},
   "outputs": [],
   "source": [
    "# [6] Forest Glen Woods [2]\n",
    "fname = 'Delivery/057773250010_01/057773250010_01_P003_MUL/17SEP29170927-M2AS-057773250010_01_P003.TIF'\n",
    "scan = PhScan(fname)\n",
    "fig, ax = plt.subplots(1, 1, figsize=[8, 4])\n",
    "im1 = ax.imshow((2.0 * scan.rgb).clip(0, 1))"
   ]
  },
  {
   "cell_type": "code",
   "execution_count": null,
   "metadata": {},
   "outputs": [],
   "source": [
    "im1 = ax.imshow((2.0 * scan.rgb[5800:5857:, 2740:2764:]).clip(0, 1))\n",
    "fig.canvas.draw()\n",
    "plt.show()\n",
    "fig.savefig(os.path.join( \"output\", \"Forest_Glen_Woods_17SEP29170927.png\"), clobber=True)"
   ]
  },
  {
   "cell_type": "code",
   "execution_count": null,
   "metadata": {},
   "outputs": [],
   "source": [
    "# [7] Kickapoo Woods [0]\n",
    "fname = 'Delivery/057773250120_01/057773250120_01_P001_MUL/17SEP29170931-M2AS-057773250120_01_P001.TIF'\n",
    "scan = PhScan(fname)\n",
    "fig, ax = plt.subplots(1, 1, figsize=[8, 4])\n",
    "im1 = ax.imshow((2.0 * scan.rgb).clip(0, 1))"
   ]
  },
  {
   "cell_type": "code",
   "execution_count": null,
   "metadata": {},
   "outputs": [],
   "source": [
    "im1 = ax.imshow((2.0 * scan.rgb[2127:2174:, 6325:6416:]).clip(0, 1))\n",
    "fig.canvas.draw()\n",
    "plt.show()\n",
    "fig.savefig(os.path.join( \"output\", \"Kickapoo_Woods_17SEP29170931.png\"), clobber=True)"
   ]
  },
  {
   "cell_type": "code",
   "execution_count": 19,
   "metadata": {},
   "outputs": [
    {
     "name": "stdout",
     "output_type": "stream",
     "text": [
      "reading Delivery\\057773250010_01\\057773250010_01_P001_MUL\\17JUN02165316-M2AS-057773250010_01_P001.TIF...\n",
      "extracting to array...  (extracted in 3.63700008392s)\n",
      "rescaling...\n"
     ]
    },
    {
     "ename": "MemoryError",
     "evalue": "",
     "output_type": "error",
     "traceback": [
      "\u001b[1;31m\u001b[0m",
      "\u001b[1;31mMemoryError\u001b[0mTraceback (most recent call last)",
      "\u001b[1;32m<ipython-input-19-2a737ac3095e>\u001b[0m in \u001b[0;36m<module>\u001b[1;34m()\u001b[0m\n\u001b[0;32m      1\u001b[0m \u001b[1;31m## [8] LaBagh Woods\u001b[0m\u001b[1;33m\u001b[0m\u001b[1;33m\u001b[0m\u001b[0m\n\u001b[0;32m      2\u001b[0m \u001b[0mfname\u001b[0m \u001b[1;33m=\u001b[0m \u001b[1;34m'Delivery\\\\057773250010_01\\\\057773250010_01_P001_MUL\\\\17JUN02165316-M2AS-057773250010_01_P001.TIF'\u001b[0m\u001b[1;33m\u001b[0m\u001b[0m\n\u001b[1;32m----> 3\u001b[1;33m \u001b[0mscan\u001b[0m \u001b[1;33m=\u001b[0m \u001b[0mPhScan\u001b[0m\u001b[1;33m(\u001b[0m\u001b[0mfname\u001b[0m\u001b[1;33m)\u001b[0m\u001b[1;33m\u001b[0m\u001b[0m\n\u001b[0m\u001b[0;32m      4\u001b[0m \u001b[0mfig\u001b[0m\u001b[1;33m,\u001b[0m \u001b[0max\u001b[0m \u001b[1;33m=\u001b[0m \u001b[0mplt\u001b[0m\u001b[1;33m.\u001b[0m\u001b[0msubplots\u001b[0m\u001b[1;33m(\u001b[0m\u001b[1;36m1\u001b[0m\u001b[1;33m,\u001b[0m \u001b[1;36m1\u001b[0m\u001b[1;33m,\u001b[0m \u001b[0mfigsize\u001b[0m\u001b[1;33m=\u001b[0m\u001b[1;33m[\u001b[0m\u001b[1;36m8\u001b[0m\u001b[1;33m,\u001b[0m \u001b[1;36m4\u001b[0m\u001b[1;33m]\u001b[0m\u001b[1;33m)\u001b[0m\u001b[1;33m\u001b[0m\u001b[0m\n\u001b[0;32m      5\u001b[0m \u001b[0mim1\u001b[0m \u001b[1;33m=\u001b[0m \u001b[0max\u001b[0m\u001b[1;33m.\u001b[0m\u001b[0mimshow\u001b[0m\u001b[1;33m(\u001b[0m\u001b[1;33m(\u001b[0m\u001b[1;36m2.0\u001b[0m \u001b[1;33m*\u001b[0m \u001b[0mscan\u001b[0m\u001b[1;33m.\u001b[0m\u001b[0mrgb\u001b[0m\u001b[1;33m)\u001b[0m\u001b[1;33m.\u001b[0m\u001b[0mclip\u001b[0m\u001b[1;33m(\u001b[0m\u001b[1;36m0\u001b[0m\u001b[1;33m,\u001b[0m \u001b[1;36m1\u001b[0m\u001b[1;33m)\u001b[0m\u001b[1;33m)\u001b[0m\u001b[1;33m\u001b[0m\u001b[0m\n",
      "\u001b[1;32mC:\\Users\\dapangxing\\Documents\\Vege\\carve\\carve\\ph_scan.pyc\u001b[0m in \u001b[0;36m__init__\u001b[1;34m(self, fname)\u001b[0m\n\u001b[0;32m     31\u001b[0m         \u001b[1;31m# -- rescale to 0 to 1\u001b[0m\u001b[1;33m\u001b[0m\u001b[1;33m\u001b[0m\u001b[0m\n\u001b[0;32m     32\u001b[0m         \u001b[1;32mprint\u001b[0m\u001b[1;33m(\u001b[0m\u001b[1;34m\"rescaling...\"\u001b[0m\u001b[1;33m)\u001b[0m\u001b[1;33m\u001b[0m\u001b[0m\n\u001b[1;32m---> 33\u001b[1;33m         \u001b[0mself\u001b[0m\u001b[1;33m.\u001b[0m\u001b[0mimgs\u001b[0m \u001b[1;33m=\u001b[0m \u001b[0mself\u001b[0m\u001b[1;33m.\u001b[0m\u001b[0mimg\u001b[0m \u001b[1;33m/\u001b[0m \u001b[0mfloat\u001b[0m\u001b[1;33m(\u001b[0m\u001b[0mself\u001b[0m\u001b[1;33m.\u001b[0m\u001b[0mimg\u001b[0m\u001b[1;33m.\u001b[0m\u001b[0mmax\u001b[0m\u001b[1;33m(\u001b[0m\u001b[1;33m)\u001b[0m\u001b[1;33m)\u001b[0m\u001b[1;33m\u001b[0m\u001b[0m\n\u001b[0m\u001b[0;32m     34\u001b[0m \u001b[1;33m\u001b[0m\u001b[0m\n\u001b[0;32m     35\u001b[0m         \u001b[1;31m# -- renormalize by hand\u001b[0m\u001b[1;33m\u001b[0m\u001b[1;33m\u001b[0m\u001b[0m\n",
      "\u001b[1;31mMemoryError\u001b[0m: "
     ]
    }
   ],
   "source": [
    "## [8] LaBagh Woods [0]\n",
    "fname = 'Delivery\\\\057773250010_01\\\\057773250010_01_P001_MUL\\\\17JUN02165316-M2AS-057773250010_01_P001.TIF'\n",
    "scan = PhScan(fname)\n",
    "fig, ax = plt.subplots(1, 1, figsize=[8, 4])\n",
    "im1 = ax.imshow((2.0 * scan.rgb).clip(0, 1))"
   ]
  },
  {
   "cell_type": "code",
   "execution_count": 33,
   "metadata": {
    "collapsed": true
   },
   "outputs": [],
   "source": [
    "im1 = ax.imshow((2.0 * scan.rgb[6085:6152:, 3752:3821:]).clip(0, 1))\n",
    "fig.canvas.draw()\n",
    "plt.show()\n",
    "fig.savefig(os.path.join( \"output\", \"LaBagh_Woods.png\"), clobber=True)"
   ]
  },
  {
   "cell_type": "code",
   "execution_count": null,
   "metadata": {},
   "outputs": [],
   "source": [
    "## [8] LaBagh Woods [1]\n",
    "fname = 'Delivery/057773250010_01/057773250010_01_P002_MUL/17SEP18165731-M2AS-057773250010_01_P002.TIF'\n",
    "scan = PhScan(fname)\n",
    "fig, ax = plt.subplots(1, 1, figsize=[8, 4])\n",
    "im1 = ax.imshow((2.0 * scan.rgb).clip(0, 1))"
   ]
  },
  {
   "cell_type": "code",
   "execution_count": null,
   "metadata": {},
   "outputs": [],
   "source": [
    "im1 = ax.imshow((2.0 * scan.rgb[6085:6144:, 3761:3828:]).clip(0, 1))\n",
    "fig.canvas.draw()\n",
    "plt.show()\n",
    "fig.savefig(os.path.join( \"output\", \"LaBagh_Woods_17SEP18165731.png\"), clobber=True)"
   ]
  },
  {
   "cell_type": "code",
   "execution_count": null,
   "metadata": {},
   "outputs": [],
   "source": [
    "## [8] LaBagh Woods [2]\n",
    "fname = 'Delivery/057773250010_01/057773250010_01_P003_MUL/17SEP29170927-M2AS-057773250010_01_P003.TIF'\n",
    "scan = PhScan(fname)\n",
    "fig, ax = plt.subplots(1, 1, figsize=[8, 4])\n",
    "im1 = ax.imshow((2.0 * scan.rgb).clip(0, 1))"
   ]
  },
  {
   "cell_type": "code",
   "execution_count": null,
   "metadata": {},
   "outputs": [],
   "source": [
    "im1 = ax.imshow((2.0 * scan.rgb[6085:6145:, 3761:3828:]).clip(0, 1))\n",
    "fig.canvas.draw()\n",
    "plt.show()\n",
    "fig.savefig(os.path.join( \"output\", \"LaBagh_Woods_17SEP29170927.png\"), clobber=True)"
   ]
  },
  {
   "cell_type": "code",
   "execution_count": null,
   "metadata": {},
   "outputs": [],
   "source": [
    "## [9] Linne Woods [0]\n",
    "fname = 'Delivery/057773250010_01/057773250010_01_P001_MUL/17JUN02165316-M2AS-057773250010_01_P001.TIF'\n",
    "scan = PhScan(fname)\n",
    "fig, ax = plt.subplots(1, 1, figsize=[8, 4])\n",
    "im1 = ax.imshow((2.0 * scan.rgb).clip(0, 1))"
   ]
  },
  {
   "cell_type": "code",
   "execution_count": null,
   "metadata": {},
   "outputs": [],
   "source": [
    "im1 = ax.imshow((2.0 * scan.rgb[2188:2406:, 1229:1288:]).clip(0, 1))\n",
    "fig.canvas.draw()\n",
    "plt.show()\n",
    "fig.savefig(os.path.join( \"output\", \"Linne_Woods_17JUN02165316.png\"), clobber=True)"
   ]
  },
  {
   "cell_type": "code",
   "execution_count": null,
   "metadata": {},
   "outputs": [],
   "source": [
    "## [9] Linne Woods [1]\n",
    "fname = 'Delivery/057773250010_01/057773250010_01_P002_MUL/17SEP18165731-M2AS-057773250010_01_P002.TIF'\n",
    "scan = PhScan(fname)\n",
    "fig, ax = plt.subplots(1, 1, figsize=[8, 4])\n",
    "im1 = ax.imshow((2.0 * scan.rgb).clip(0, 1))"
   ]
  },
  {
   "cell_type": "code",
   "execution_count": null,
   "metadata": {},
   "outputs": [],
   "source": [
    "im1 = ax.imshow((2.0 * scan.rgb[2188:2406:, 1229:1288:]).clip(0, 1))\n",
    "fig.canvas.draw()\n",
    "plt.show()\n",
    "fig.savefig(os.path.join( \"output\", \"Linne_Woods_17SEP18165731.png\"), clobber=True)"
   ]
  },
  {
   "cell_type": "code",
   "execution_count": null,
   "metadata": {},
   "outputs": [],
   "source": [
    "## [9] Linne Woods [2] cloud\n",
    "fname = 'Delivery/057773250010_01/057773250010_01_P003_MUL/17SEP29170927-M2AS-057773250010_01_P003.TIF'\n",
    "scan = PhScan(fname)\n",
    "fig, ax = plt.subplots(1, 1, figsize=[8, 4])\n",
    "im1 = ax.imshow((2.0 * scan.rgb).clip(0, 1))"
   ]
  },
  {
   "cell_type": "code",
   "execution_count": 18,
   "metadata": {},
   "outputs": [
    {
     "name": "stdout",
     "output_type": "stream",
     "text": [
      "reading Delivery\\057773250050_01\\057773250050_01_P001_MUL\\17SEP29170928-M2AS-057773250050_01_P001.TIF...\n",
      "extracting to array...  (extracted in 2.13099980354s)\n",
      "rescaling...\n"
     ]
    },
    {
     "ename": "MemoryError",
     "evalue": "",
     "output_type": "error",
     "traceback": [
      "\u001b[1;31m\u001b[0m",
      "\u001b[1;31mMemoryError\u001b[0mTraceback (most recent call last)",
      "\u001b[1;32m<ipython-input-18-21ed36c7a7dd>\u001b[0m in \u001b[0;36m<module>\u001b[1;34m()\u001b[0m\n\u001b[0;32m      1\u001b[0m \u001b[1;31m## [10] Ronan Park & East River Park\u001b[0m\u001b[1;33m\u001b[0m\u001b[1;33m\u001b[0m\u001b[0m\n\u001b[0;32m      2\u001b[0m \u001b[0mfname\u001b[0m \u001b[1;33m=\u001b[0m \u001b[1;34m'Delivery\\\\057773250050_01\\\\057773250050_01_P001_MUL\\\\17SEP29170928-M2AS-057773250050_01_P001.TIF'\u001b[0m\u001b[1;33m\u001b[0m\u001b[0m\n\u001b[1;32m----> 3\u001b[1;33m \u001b[0mscan\u001b[0m \u001b[1;33m=\u001b[0m \u001b[0mPhScan\u001b[0m\u001b[1;33m(\u001b[0m\u001b[0mfname\u001b[0m\u001b[1;33m)\u001b[0m\u001b[1;33m\u001b[0m\u001b[0m\n\u001b[0m\u001b[0;32m      4\u001b[0m \u001b[0mfig\u001b[0m\u001b[1;33m,\u001b[0m \u001b[0max\u001b[0m \u001b[1;33m=\u001b[0m \u001b[0mplt\u001b[0m\u001b[1;33m.\u001b[0m\u001b[0msubplots\u001b[0m\u001b[1;33m(\u001b[0m\u001b[1;36m1\u001b[0m\u001b[1;33m,\u001b[0m \u001b[1;36m1\u001b[0m\u001b[1;33m,\u001b[0m \u001b[0mfigsize\u001b[0m\u001b[1;33m=\u001b[0m\u001b[1;33m[\u001b[0m\u001b[1;36m8\u001b[0m\u001b[1;33m,\u001b[0m \u001b[1;36m4\u001b[0m\u001b[1;33m]\u001b[0m\u001b[1;33m)\u001b[0m\u001b[1;33m\u001b[0m\u001b[0m\n\u001b[0;32m      5\u001b[0m \u001b[0mim1\u001b[0m \u001b[1;33m=\u001b[0m \u001b[0max\u001b[0m\u001b[1;33m.\u001b[0m\u001b[0mimshow\u001b[0m\u001b[1;33m(\u001b[0m\u001b[1;33m(\u001b[0m\u001b[1;36m2.0\u001b[0m \u001b[1;33m*\u001b[0m \u001b[0mscan\u001b[0m\u001b[1;33m.\u001b[0m\u001b[0mrgb\u001b[0m\u001b[1;33m)\u001b[0m\u001b[1;33m.\u001b[0m\u001b[0mclip\u001b[0m\u001b[1;33m(\u001b[0m\u001b[1;36m0\u001b[0m\u001b[1;33m,\u001b[0m \u001b[1;36m1\u001b[0m\u001b[1;33m)\u001b[0m\u001b[1;33m)\u001b[0m\u001b[1;33m\u001b[0m\u001b[0m\n",
      "\u001b[1;32mC:\\Users\\dapangxing\\Documents\\Vege\\carve\\carve\\ph_scan.pyc\u001b[0m in \u001b[0;36m__init__\u001b[1;34m(self, fname)\u001b[0m\n\u001b[0;32m     31\u001b[0m         \u001b[1;31m# -- rescale to 0 to 1\u001b[0m\u001b[1;33m\u001b[0m\u001b[1;33m\u001b[0m\u001b[0m\n\u001b[0;32m     32\u001b[0m         \u001b[1;32mprint\u001b[0m\u001b[1;33m(\u001b[0m\u001b[1;34m\"rescaling...\"\u001b[0m\u001b[1;33m)\u001b[0m\u001b[1;33m\u001b[0m\u001b[0m\n\u001b[1;32m---> 33\u001b[1;33m         \u001b[0mself\u001b[0m\u001b[1;33m.\u001b[0m\u001b[0mimgs\u001b[0m \u001b[1;33m=\u001b[0m \u001b[0mself\u001b[0m\u001b[1;33m.\u001b[0m\u001b[0mimg\u001b[0m \u001b[1;33m/\u001b[0m \u001b[0mfloat\u001b[0m\u001b[1;33m(\u001b[0m\u001b[0mself\u001b[0m\u001b[1;33m.\u001b[0m\u001b[0mimg\u001b[0m\u001b[1;33m.\u001b[0m\u001b[0mmax\u001b[0m\u001b[1;33m(\u001b[0m\u001b[1;33m)\u001b[0m\u001b[1;33m)\u001b[0m\u001b[1;33m\u001b[0m\u001b[0m\n\u001b[0m\u001b[0;32m     34\u001b[0m \u001b[1;33m\u001b[0m\u001b[0m\n\u001b[0;32m     35\u001b[0m         \u001b[1;31m# -- renormalize by hand\u001b[0m\u001b[1;33m\u001b[0m\u001b[1;33m\u001b[0m\u001b[0m\n",
      "\u001b[1;31mMemoryError\u001b[0m: "
     ]
    }
   ],
   "source": [
    "## [10] Ronan Park & East River Park [0]\n",
    "fname = 'Delivery\\\\057773250050_01\\\\057773250050_01_P001_MUL\\\\17SEP29170928-M2AS-057773250050_01_P001.TIF'\n",
    "scan = PhScan(fname)\n",
    "fig, ax = plt.subplots(1, 1, figsize=[8, 4])\n",
    "im1 = ax.imshow((2.0 * scan.rgb).clip(0, 1))"
   ]
  },
  {
   "cell_type": "code",
   "execution_count": 6,
   "metadata": {
    "collapsed": true
   },
   "outputs": [],
   "source": [
    "im1 = ax.imshow((2.0 * scan.rgb[446:498:, 373:395:]).clip(0, 1))\n",
    "fig.canvas.draw()\n",
    "plt.show()\n",
    "fig.savefig(os.path.join( \"output\", \"Ronan_Park.png\"), clobber=True)"
   ]
  },
  {
   "cell_type": "code",
   "execution_count": null,
   "metadata": {
    "collapsed": true
   },
   "outputs": [],
   "source": [
    "## [12] Skokie Lagoons [1]\n",
    "fname = 'Delivery/057773250130_01/057773250130_01_P001_MUL/17SEP18165737-M2AS-057773250130_01_P001.TIF'\n",
    "scan = PhScan(fname)\n",
    "fig, ax = plt.subplots(1, 1, figsize=[8, 4])\n",
    "im1 = ax.imshow((2.0 * scan.rgb).clip(0, 1))"
   ]
  },
  {
   "cell_type": "code",
   "execution_count": null,
   "metadata": {},
   "outputs": [],
   "source": [
    "im1 = ax.imshow((2.0 * scan.rgb[2606*4:2621*4:, 1442*4:1478*4-20:]).clip(0, 1))\n",
    "fig.canvas.draw()\n",
    "plt.show()\n",
    "fig.savefig(os.path.join( \"output\", \"Skokie_Lagoons_17SEP18165737.png\"), clobber=True)"
   ]
  },
  {
   "cell_type": "code",
   "execution_count": null,
   "metadata": {},
   "outputs": [],
   "source": [
    "## [13] Somme Woods [2]\n",
    "fname = 'Delivery/057773250040_01/057773250040_01_P001_MUL/17SEP18165737-M2AS-057773250040_01_P001.TIF'\n",
    "scan = PhScan(fname)\n",
    "fig, ax = plt.subplots(1, 1, figsize=[8, 4])\n",
    "im1 = ax.imshow((2.0 * scan.rgb).clip(0, 1))"
   ]
  },
  {
   "cell_type": "code",
   "execution_count": null,
   "metadata": {},
   "outputs": [],
   "source": [
    "im1 = ax.imshow((2.0 * scan.rgb[9364:9515:, 5476:5569:]).clip(0, 1))\n",
    "fig.canvas.draw()\n",
    "plt.show()\n",
    "fig.savefig(os.path.join( \"output\", \"Somme_Woods_17SEP18165737.png\"), clobber=True)"
   ]
  },
  {
   "cell_type": "code",
   "execution_count": null,
   "metadata": {},
   "outputs": [],
   "source": [
    "## [14] Wampum Lake [1]\n",
    "fname = 'Delivery/057773250120_01/057773250120_01_P002_MUL/17SEP29170932-M2AS-057773250120_01_P002.TIF'\n",
    "scan = PhScan(fname)\n",
    "fig, ax = plt.subplots(1, 1, figsize=[8, 4])\n",
    "im1 = ax.imshow((2.0 * scan.rgb).clip(0, 1))"
   ]
  },
  {
   "cell_type": "code",
   "execution_count": null,
   "metadata": {},
   "outputs": [],
   "source": [
    "im1 = ax.imshow((2.0 * scan.rgb[671:749:, 5940:5997:]).clip(0, 1))\n",
    "fig.canvas.draw()\n",
    "plt.show()\n",
    "fig.savefig(os.path.join( \"output\", \"Wampum_Lake_17SEP29170932.png\"), clobber=True)"
   ]
  },
  {
   "cell_type": "code",
   "execution_count": null,
   "metadata": {},
   "outputs": [],
   "source": [
    "## [15] Watersmeet Woods [0]\n",
    "fname = 'Delivery/057773250040_01/057773250040_01_P001_MUL/17SEP18165737-M2AS-057773250040_01_P001.TIF'\n",
    "scan = PhScan(fname)\n",
    "fig, ax = plt.subplots(1, 1, figsize=[8, 4])\n",
    "im1 = ax.imshow((2.0 * scan.rgb).clip(0, 1))"
   ]
  },
  {
   "cell_type": "code",
   "execution_count": null,
   "metadata": {},
   "outputs": [],
   "source": [
    "im1 = ax.imshow((2.0 * scan.rgb[12353:12404:, 8057:8185:]).clip(0, 1))\n",
    "fig.canvas.draw()\n",
    "plt.show()\n",
    "fig.savefig(os.path.join( \"output\", \"Watersmeet_Woods_17SEP18165737.png\"), clobber=True)"
   ]
  },
  {
   "cell_type": "code",
   "execution_count": null,
   "metadata": {},
   "outputs": [],
   "source": [
    "## [16] Whistler Woods [0]\n",
    "fname = 'Delivery/057773250120_01/057773250120_01_P001_MUL/17SEP29170931-M2AS-057773250120_01_P001.TIF'\n",
    "scan = PhScan(fname)\n",
    "fig, ax = plt.subplots(1, 1, figsize=[8, 4])\n",
    "im1 = ax.imshow((2.0 * scan.rgb).clip(0, 1))"
   ]
  },
  {
   "cell_type": "code",
   "execution_count": null,
   "metadata": {},
   "outputs": [],
   "source": [
    "im1 = ax.imshow((2.0 * scan.rgb[699:757:, 7001:7079:]).clip(0, 1))\n",
    "fig.canvas.draw()\n",
    "plt.show()\n",
    "fig.savefig(os.path.join( \"output\", \"Whistler_Woods_17SEP29170931.png\"), clobber=True)"
   ]
  },
  {
   "cell_type": "code",
   "execution_count": null,
   "metadata": {},
   "outputs": [],
   "source": []
  }
 ],
 "metadata": {
  "kernelspec": {
   "display_name": "Python 2",
   "language": "python",
   "name": "python2"
  },
  "language_info": {
   "codemirror_mode": {
    "name": "ipython",
    "version": 2
   },
   "file_extension": ".py",
   "mimetype": "text/x-python",
   "name": "python",
   "nbconvert_exporter": "python",
   "pygments_lexer": "ipython2",
   "version": "2.7.11"
  }
 },
 "nbformat": 4,
 "nbformat_minor": 2
}
